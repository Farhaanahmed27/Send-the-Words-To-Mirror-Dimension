{
  "nbformat": 4,
  "nbformat_minor": 0,
  "metadata": {
    "colab": {
      "name": "Web-scrapping.ipynb",
      "provenance": [],
      "collapsed_sections": [],
      "authorship_tag": "ABX9TyNdpQA8DDnLgBR/ibdMdHDA",
      "include_colab_link": true
    },
    "kernelspec": {
      "name": "python3",
      "display_name": "Python 3"
    },
    "language_info": {
      "name": "python"
    }
  },
  "cells": [
    {
      "cell_type": "markdown",
      "metadata": {
        "id": "view-in-github",
        "colab_type": "text"
      },
      "source": [
        "<a href=\"https://colab.research.google.com/github/Farhaanahmed27/Send-the-Words-To-Mirror-Dimension/blob/main/Web_scrapping.ipynb\" target=\"_parent\"><img src=\"https://colab.research.google.com/assets/colab-badge.svg\" alt=\"Open In Colab\"/></a>"
      ]
    },
    {
      "cell_type": "code",
      "execution_count": 1,
      "metadata": {
        "id": "WheKB5N0XHap"
      },
      "outputs": [],
      "source": [
        "from bs4 import BeautifulSoup as soup\n",
        "import requests\n"
      ]
    },
    {
      "cell_type": "code",
      "source": [
        "print(\"Enter the unfamiliar skill that you want to filter out.....\")\n",
        "unfamilliar_skills = input(\"-->\")\n",
        "print(\"filtering out unfamiliar skill/skills\")\n",
        "html_txt = requests.get(\"https://www.timesjobs.com/candidate/job-search.html?searchType=personalizedSearch&from=submit&txtKeywords=python&txtLocation=\").text\n",
        "bsoup = soup(html_txt , 'lxml')\n",
        "jobs = bsoup.find_all(\"li\" , class_=\"clearfix job-bx wht-shd-bx\")\n",
        "for job in jobs:\n",
        "    published_date = job.find(\"span\" , class_= \"sim-posted\").text\n",
        "    if \"few\" in published_date:\n",
        "      company_name = job.find(\"h3\" , class_=\"joblist-comp-name\").text.replace(\" \",\"\")\n",
        "      skills = job.find(\"span\" , class_ = \"srp-skills\").text.replace(\" \", \"\")\n",
        "      more_info = job.header.h2.a[\"href\"]\n",
        "      if unfamilliar_skills not in skills:\n",
        "        print(f'Comapany name : {company_name.strip()}')\n",
        "        print(f'Skills : {skills.strip()}')\n",
        "        print(f\"More Info : {more_info}\")\n",
        "\n"
      ],
      "metadata": {
        "colab": {
          "base_uri": "https://localhost:8080/"
        },
        "id": "06cceB1IXWe_",
        "outputId": "256c205d-f4d1-4e80-ed35-6ca553d823b6"
      },
      "execution_count": 24,
      "outputs": [
        {
          "output_type": "stream",
          "name": "stdout",
          "text": [
            "Enter the unfamiliar skill that you want to filter out.....\n",
            "-->linux\n",
            "filtering out unfamiliar skill/skills\n",
            "Comapany name : PureTechCodexPrivateLimited\n",
            "Skills : rest,python,database,django,debugging,mongodb\n",
            "More Info : https://www.timesjobs.com/job-detail/python-pure-tech-codex-private-limited-pune-2-to-3-yrs-jobid-OHwfF0d6EhNzpSvf__PLUS__uAgZw==&source=srp\n",
            "Comapany name : BestInfosystemsLtd.\n",
            "(MoreJobs)\n",
            "Skills : PYTHON,Azure,ML,AFRS,Cognitive,DataLake,Databricks,DataFactory,Synapse,Analytics,SQL,EventHub,IoT,Apache,Spark,MachineLearning,Databrick,Docker,RedHat\n",
            "More Info : https://www.timesjobs.com/job-detail/python-best-infosystems-ltd-hyderabad-secunderabad-5-to-7-yrs-jobid-__SLASH__J0fFSJhFspzpSvf__PLUS__uAgZw==&source=srp\n",
            "Comapany name : GeminiSolutions\n",
            "Skills : python,mobile,svn,nosql,pythonscripting,git,api,sqldatabase\n",
            "More Info : https://www.timesjobs.com/job-detail/qa-python-python-sdet-gemini-solutions-gurgaon-4-to-7-yrs-jobid-eGMLzwOk2QlzpSvf__PLUS__uAgZw==&source=srp\n",
            "Comapany name : VishalConsultants\n",
            "(MoreJobs)\n",
            "Skills : PYTHON\n",
            "More Info : https://www.timesjobs.com/job-detail/python-developer-vishal-consultants-indore-2-to-6-yrs-jobid-7__SLASH__lf__SLASH__PubXttzpSvf__PLUS__uAgZw==&source=srp\n",
            "Comapany name : LAKSHHUMANRESOURCE\n",
            "Skills : rest,python,django,git\n",
            "More Info : https://www.timesjobs.com/job-detail/python-developer-laksh-human-resource-mumbai-1-to-3-yrs-jobid-Bo79FYBR7__SLASH__5zpSvf__PLUS__uAgZw==&source=srp\n",
            "Comapany name : KumarandAssociates\n",
            "(MoreJobs)\n",
            "Skills : python,django\n",
            "More Info : https://www.timesjobs.com/job-detail/python-developer-kumar-and-associates-ahmedabad-1-to-5-yrs-jobid-udquhR6g__PLUS__BdzpSvf__PLUS__uAgZw==&source=srp\n",
            "Comapany name : TEAMPLUSSTAFFINGSOLUTIONPVT.LTD.\n",
            "Skills : python,pythonscripting,shellscripting,unix\n",
            "More Info : https://www.timesjobs.com/job-detail/python-developer-teamplus-staffing-solution-pvt-ltd-pune-6-to-9-yrs-jobid-bjMgIT2lz6JzpSvf__PLUS__uAgZw==&source=srp\n",
            "Comapany name : IvanInfotechPvt.Ltd.\n",
            "Skills : rest,python,security,debugging\n",
            "More Info : https://www.timesjobs.com/job-detail/python-developer-ivan-infotech-pvt-ltd-kolkata-2-to-5-yrs-jobid-1h6sLaqbaBZzpSvf__PLUS__uAgZw==&source=srp\n",
            "Comapany name : GoldenOpportunitiesPvtLtd\n",
            "Skills : python,informationtechnology,sql\n",
            "More Info : https://www.timesjobs.com/job-detail/python-developers-golden-opportunities-pvt-ltd-chennai-5-to-8-yrs-jobid-PhsasbleP6xzpSvf__PLUS__uAgZw==&source=srp\n",
            "Comapany name : CodeboardTECH\n",
            "(MoreJobs)\n",
            "Skills : Python,PythonScripting,PostgreSQL,MySQL,RestfulAPI,Github,MongoDB\n",
            "More Info : https://www.timesjobs.com/job-detail/python-developer-codeboard-tech-chennai-2-to-6-yrs-jobid-uF7eq1ir7wtzpSvf__PLUS__uAgZw==&source=srp\n",
            "Comapany name : DatagridSolutions\n",
            "Skills : python,database,django,mysql,api\n",
            "More Info : https://www.timesjobs.com/job-detail/python-developer-datagrid-solutions-mumbai-2-to-3-yrs-jobid-yAspoeIZIo5zpSvf__PLUS__uAgZw==&source=srp\n",
            "Comapany name : Gibots\n",
            "Skills : python,elementsdeveloped,performanceapplications\n",
            "More Info : https://www.timesjobs.com/job-detail/python-developer-gibots-pune-1-to-2-yrs-jobid-3x1kaokioYFzpSvf__PLUS__uAgZw==&source=srp\n"
          ]
        }
      ]
    },
    {
      "cell_type": "code",
      "source": [
        ""
      ],
      "metadata": {
        "id": "tm-fMQLzXkmz"
      },
      "execution_count": null,
      "outputs": []
    }
  ]
}